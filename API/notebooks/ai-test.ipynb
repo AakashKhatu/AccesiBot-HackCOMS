{
 "cells": [
  {
   "cell_type": "code",
   "execution_count": 1,
   "metadata": {},
   "outputs": [],
   "source": [
    "import os\n",
    "\n",
    "\n",
    "os.environ[\"TOGETHER_API_KEY\"] = (\n",
    "    \"1fd84ed39d1c9253221efa2323baeb1c04375a6fd60d14fd186a1a78137f7c6f\"\n",
    "\n",
    ")"
   ]
  },
  {
   "cell_type": "code",
   "execution_count": null,
   "metadata": {},
   "outputs": [
    {
     "name": "stdout",
     "output_type": "stream",
     "text": [
      "NgrokTunnel: \"https://eed6-68-180-87-191.ngrok-free.app\" -> \"http://localhost:8000\"\n"
     ]
    },
    {
     "name": "stderr",
     "output_type": "stream",
     "text": [
      "INFO:     Started server process [36924]\n",
      "INFO:     Waiting for application startup.\n",
      "INFO:     Application startup complete.\n",
      "INFO:     Uvicorn running on http://127.0.0.1:8000 (Press CTRL+C to quit)\n"
     ]
    },
    {
     "name": "stdout",
     "output_type": "stream",
     "text": [
      "INFO:     2620:8d:8000:106c:4c26:ffe2:44e1:feb5:0 - \"OPTIONS /analyze HTTP/1.1\" 200 OK\n"
     ]
    },
    {
     "name": "stderr",
     "output_type": "stream",
     "text": [
      "\u001b[32m2024-11-03 09:23:15.222\u001b[0m | \u001b[1mINFO    \u001b[0m | \u001b[36m__main__\u001b[0m:\u001b[36mindex\u001b[0m:\u001b[36m30\u001b[0m - \u001b[1mRunning Inference\u001b[0m\n"
     ]
    },
    {
     "name": "stdout",
     "output_type": "stream",
     "text": [
      "INFO:     2620:8d:8000:106c:4c26:ffe2:44e1:feb5:0 - \"POST /analyze HTTP/1.1\" 200 OK\n",
      "INFO:     2620:8d:8000:106c:4c26:ffe2:44e1:feb5:0 - \"OPTIONS /analyze-test HTTP/1.1\" 200 OK\n",
      "INFO:     2620:8d:8000:106c:4c26:ffe2:44e1:feb5:0 - \"POST /analyze-test HTTP/1.1\" 404 Not Found\n",
      "INFO:     2620:8d:8000:106c:4c26:ffe2:44e1:feb5:0 - \"OPTIONS /analyze_test HTTP/1.1\" 200 OK\n",
      "INFO:     2620:8d:8000:106c:4c26:ffe2:44e1:feb5:0 - \"POST /analyze_test HTTP/1.1\" 200 OK\n",
      "INFO:     2620:8d:8000:106c:4c26:ffe2:44e1:feb5:0 - \"OPTIONS /analyze_test HTTP/1.1\" 200 OK\n",
      "INFO:     2620:8d:8000:106c:4c26:ffe2:44e1:feb5:0 - \"POST /analyze_test HTTP/1.1\" 200 OK\n",
      "INFO:     2620:8d:8000:106c:4c26:ffe2:44e1:feb5:0 - \"OPTIONS /analyze_test HTTP/1.1\" 200 OK\n",
      "INFO:     2620:8d:8000:106c:4c26:ffe2:44e1:feb5:0 - \"POST /analyze_test HTTP/1.1\" 200 OK\n",
      "INFO:     2620:8d:8000:106c:4c26:ffe2:44e1:feb5:0 - \"OPTIONS /analyze_test HTTP/1.1\" 200 OK\n",
      "INFO:     2620:8d:8000:106c:4c26:ffe2:44e1:feb5:0 - \"POST /analyze_test HTTP/1.1\" 200 OK\n",
      "INFO:     2620:8d:8000:106c:4c26:ffe2:44e1:feb5:0 - \"OPTIONS /analyze_test HTTP/1.1\" 200 OK\n",
      "INFO:     2620:8d:8000:106c:4c26:ffe2:44e1:feb5:0 - \"POST /analyze_test HTTP/1.1\" 200 OK\n",
      "INFO:     2620:8d:8000:106c:4c26:ffe2:44e1:feb5:0 - \"OPTIONS /analyze_test HTTP/1.1\" 200 OK\n",
      "INFO:     2620:8d:8000:106c:4c26:ffe2:44e1:feb5:0 - \"POST /analyze_test HTTP/1.1\" 200 OK\n",
      "INFO:     2620:8d:8000:106c:4c26:ffe2:44e1:feb5:0 - \"OPTIONS /analyze_test HTTP/1.1\" 200 OK\n",
      "INFO:     2620:8d:8000:106c:4c26:ffe2:44e1:feb5:0 - \"POST /analyze_test HTTP/1.1\" 200 OK\n",
      "INFO:     2620:8d:8000:106c:4c26:ffe2:44e1:feb5:0 - \"OPTIONS /analyze_test HTTP/1.1\" 200 OK\n",
      "INFO:     2620:8d:8000:106c:4c26:ffe2:44e1:feb5:0 - \"POST /analyze_test HTTP/1.1\" 200 OK\n",
      "INFO:     2620:8d:8000:106c:4c26:ffe2:44e1:feb5:0 - \"OPTIONS /analyze_test HTTP/1.1\" 200 OK\n",
      "INFO:     2620:8d:8000:106c:4c26:ffe2:44e1:feb5:0 - \"POST /analyze_test HTTP/1.1\" 200 OK\n",
      "INFO:     2620:8d:8000:106c:4c26:ffe2:44e1:feb5:0 - \"OPTIONS /analyze_test HTTP/1.1\" 200 OK\n",
      "INFO:     2620:8d:8000:106c:4c26:ffe2:44e1:feb5:0 - \"POST /analyze_test HTTP/1.1\" 200 OK\n",
      "INFO:     2620:8d:8000:106c:4c26:ffe2:44e1:feb5:0 - \"OPTIONS /analyze_test HTTP/1.1\" 200 OK\n",
      "INFO:     2620:8d:8000:106c:4c26:ffe2:44e1:feb5:0 - \"POST /analyze_test HTTP/1.1\" 200 OK\n",
      "INFO:     2620:8d:8000:106c:4c26:ffe2:44e1:feb5:0 - \"OPTIONS /analyze_test HTTP/1.1\" 200 OK\n",
      "INFO:     2620:8d:8000:106c:4c26:ffe2:44e1:feb5:0 - \"POST /analyze_test HTTP/1.1\" 200 OK\n",
      "INFO:     2620:8d:8000:106c:4c26:ffe2:44e1:feb5:0 - \"OPTIONS /analyze_test HTTP/1.1\" 200 OK\n",
      "INFO:     2620:8d:8000:106c:4c26:ffe2:44e1:feb5:0 - \"POST /analyze_test HTTP/1.1\" 200 OK\n",
      "INFO:     2620:8d:8000:106c:4c26:ffe2:44e1:feb5:0 - \"OPTIONS /analyze_test HTTP/1.1\" 200 OK\n",
      "INFO:     2620:8d:8000:106c:4c26:ffe2:44e1:feb5:0 - \"POST /analyze_test HTTP/1.1\" 200 OK\n",
      "INFO:     2620:8d:8000:106c:4c26:ffe2:44e1:feb5:0 - \"OPTIONS /analyze_test HTTP/1.1\" 200 OK\n",
      "INFO:     2620:8d:8000:106c:4c26:ffe2:44e1:feb5:0 - \"POST /analyze_test HTTP/1.1\" 200 OK\n",
      "INFO:     2620:8d:8000:106c:4c26:ffe2:44e1:feb5:0 - \"OPTIONS /analyze_test HTTP/1.1\" 200 OK\n",
      "INFO:     2620:8d:8000:106c:4c26:ffe2:44e1:feb5:0 - \"POST /analyze_test HTTP/1.1\" 200 OK\n",
      "INFO:     2620:8d:8000:106c:4c26:ffe2:44e1:feb5:0 - \"OPTIONS /analyze_test HTTP/1.1\" 200 OK\n",
      "INFO:     2620:8d:8000:106c:4c26:ffe2:44e1:feb5:0 - \"POST /analyze_test HTTP/1.1\" 200 OK\n",
      "INFO:     2620:8d:8000:106c:4c26:ffe2:44e1:feb5:0 - \"OPTIONS /analyze_test HTTP/1.1\" 200 OK\n",
      "INFO:     2620:8d:8000:106c:4c26:ffe2:44e1:feb5:0 - \"POST /analyze_test HTTP/1.1\" 200 OK\n",
      "INFO:     2620:8d:8000:106c:4c26:ffe2:44e1:feb5:0 - \"OPTIONS /analyze_test HTTP/1.1\" 200 OK\n",
      "INFO:     2620:8d:8000:106c:4c26:ffe2:44e1:feb5:0 - \"POST /analyze_test HTTP/1.1\" 200 OK\n",
      "INFO:     2620:8d:8000:106c:4c26:ffe2:44e1:feb5:0 - \"OPTIONS /analyze_test HTTP/1.1\" 200 OK\n",
      "INFO:     2620:8d:8000:106c:4c26:ffe2:44e1:feb5:0 - \"POST /analyze_test HTTP/1.1\" 200 OK\n",
      "INFO:     2620:8d:8000:106c:4c26:ffe2:44e1:feb5:0 - \"OPTIONS /analyze_test HTTP/1.1\" 200 OK\n",
      "INFO:     2620:8d:8000:106c:4c26:ffe2:44e1:feb5:0 - \"POST /analyze_test HTTP/1.1\" 200 OK\n",
      "INFO:     2620:8d:8000:106c:4c26:ffe2:44e1:feb5:0 - \"OPTIONS /analyze_test HTTP/1.1\" 200 OK\n",
      "INFO:     2620:8d:8000:106c:4c26:ffe2:44e1:feb5:0 - \"POST /analyze_test HTTP/1.1\" 200 OK\n",
      "INFO:     2620:8d:8000:106c:4c26:ffe2:44e1:feb5:0 - \"OPTIONS /analyze_test HTTP/1.1\" 200 OK\n",
      "INFO:     2620:8d:8000:106c:4c26:ffe2:44e1:feb5:0 - \"POST /analyze_test HTTP/1.1\" 200 OK\n",
      "INFO:     2620:8d:8000:106c:4c26:ffe2:44e1:feb5:0 - \"OPTIONS /analyze_test HTTP/1.1\" 200 OK\n",
      "INFO:     2620:8d:8000:106c:4c26:ffe2:44e1:feb5:0 - \"POST /analyze_test HTTP/1.1\" 200 OK\n",
      "INFO:     2620:8d:8000:106c:4c26:ffe2:44e1:feb5:0 - \"OPTIONS /analyze_test HTTP/1.1\" 200 OK\n",
      "INFO:     2620:8d:8000:106c:4c26:ffe2:44e1:feb5:0 - \"POST /analyze_test HTTP/1.1\" 200 OK\n",
      "INFO:     2620:8d:8000:106c:4c26:ffe2:44e1:feb5:0 - \"OPTIONS /analyze_test HTTP/1.1\" 200 OK\n",
      "INFO:     2620:8d:8000:106c:4c26:ffe2:44e1:feb5:0 - \"POST /analyze_test HTTP/1.1\" 200 OK\n",
      "INFO:     2620:8d:8000:106c:4c26:ffe2:44e1:feb5:0 - \"OPTIONS /analyze_test HTTP/1.1\" 200 OK\n",
      "INFO:     2620:8d:8000:106c:4c26:ffe2:44e1:feb5:0 - \"POST /analyze_test HTTP/1.1\" 200 OK\n",
      "INFO:     2620:8d:8000:106c:4c26:ffe2:44e1:feb5:0 - \"OPTIONS /analyze_test HTTP/1.1\" 200 OK\n",
      "INFO:     2620:8d:8000:106c:4c26:ffe2:44e1:feb5:0 - \"POST /analyze_test HTTP/1.1\" 200 OK\n",
      "INFO:     2620:8d:8000:106c:4c26:ffe2:44e1:feb5:0 - \"OPTIONS /analyze_test HTTP/1.1\" 200 OK\n",
      "INFO:     2620:8d:8000:106c:4c26:ffe2:44e1:feb5:0 - \"POST /analyze_test HTTP/1.1\" 200 OK\n",
      "INFO:     2620:8d:8000:106c:4c26:ffe2:44e1:feb5:0 - \"OPTIONS /analyze_test HTTP/1.1\" 200 OK\n",
      "INFO:     2620:8d:8000:106c:4c26:ffe2:44e1:feb5:0 - \"POST /analyze_test HTTP/1.1\" 200 OK\n",
      "INFO:     2620:8d:8000:106c:4c26:ffe2:44e1:feb5:0 - \"OPTIONS /analyze_test HTTP/1.1\" 200 OK\n",
      "INFO:     2620:8d:8000:106c:4c26:ffe2:44e1:feb5:0 - \"POST /analyze_test HTTP/1.1\" 200 OK\n",
      "INFO:     2620:8d:8000:106c:4c26:ffe2:44e1:feb5:0 - \"OPTIONS /analyze_test HTTP/1.1\" 200 OK\n",
      "INFO:     2620:8d:8000:106c:4c26:ffe2:44e1:feb5:0 - \"POST /analyze_test HTTP/1.1\" 200 OK\n",
      "INFO:     2620:8d:8000:106c:4c26:ffe2:44e1:feb5:0 - \"OPTIONS /analyze_test HTTP/1.1\" 200 OK\n",
      "INFO:     2620:8d:8000:106c:4c26:ffe2:44e1:feb5:0 - \"POST /analyze_test HTTP/1.1\" 200 OK\n",
      "INFO:     2620:8d:8000:106c:4c26:ffe2:44e1:feb5:0 - \"OPTIONS /analyze_test HTTP/1.1\" 200 OK\n",
      "INFO:     2620:8d:8000:106c:4c26:ffe2:44e1:feb5:0 - \"POST /analyze_test HTTP/1.1\" 200 OK\n",
      "INFO:     2620:8d:8000:106c:4c26:ffe2:44e1:feb5:0 - \"OPTIONS /analyze_test HTTP/1.1\" 200 OK\n",
      "INFO:     2620:8d:8000:106c:4c26:ffe2:44e1:feb5:0 - \"POST /analyze_test HTTP/1.1\" 200 OK\n",
      "INFO:     2620:8d:8000:106c:4c26:ffe2:44e1:feb5:0 - \"POST /analyze_test HTTP/1.1\" 200 OK\n",
      "INFO:     2620:8d:8000:106c:4c26:ffe2:44e1:feb5:0 - \"OPTIONS /analyze_test HTTP/1.1\" 200 OK\n",
      "INFO:     2620:8d:8000:106c:4c26:ffe2:44e1:feb5:0 - \"POST /analyze_test HTTP/1.1\" 200 OK\n",
      "INFO:     2620:8d:8000:106c:4c26:ffe2:44e1:feb5:0 - \"OPTIONS /analyze_test HTTP/1.1\" 200 OK\n",
      "INFO:     2620:8d:8000:106c:4c26:ffe2:44e1:feb5:0 - \"POST /analyze_test HTTP/1.1\" 200 OK\n",
      "INFO:     2620:8d:8000:106c:4c26:ffe2:44e1:feb5:0 - \"POST /analyze_test HTTP/1.1\" 200 OK\n",
      "INFO:     2620:8d:8000:106c:4c26:ffe2:44e1:feb5:0 - \"POST /analyze_test HTTP/1.1\" 200 OK\n",
      "INFO:     2620:8d:8000:106c:4c26:ffe2:44e1:feb5:0 - \"POST /analyze_test HTTP/1.1\" 200 OK\n",
      "INFO:     2620:8d:8000:106c:4c26:ffe2:44e1:feb5:0 - \"POST /analyze_test HTTP/1.1\" 200 OK\n",
      "INFO:     2620:8d:8000:106c:4c26:ffe2:44e1:feb5:0 - \"POST /analyze_test HTTP/1.1\" 200 OK\n",
      "INFO:     2620:8d:8000:106c:4c26:ffe2:44e1:feb5:0 - \"OPTIONS /analyze HTTP/1.1\" 200 OK\n"
     ]
    },
    {
     "name": "stderr",
     "output_type": "stream",
     "text": [
      "\u001b[32m2024-11-03 11:14:04.924\u001b[0m | \u001b[1mINFO    \u001b[0m | \u001b[36m__main__\u001b[0m:\u001b[36mindex\u001b[0m:\u001b[36m30\u001b[0m - \u001b[1mRunning Inference\u001b[0m\n"
     ]
    },
    {
     "name": "stdout",
     "output_type": "stream",
     "text": [
      "INFO:     2620:8d:8000:106c:4c26:ffe2:44e1:feb5:0 - \"POST /analyze HTTP/1.1\" 200 OK\n"
     ]
    }
   ],
   "source": [
    "from together import Together\n",
    "\n",
    "client = Together()\n",
    "from fastapi import FastAPI\n",
    "from pydantic import BaseModel\n",
    "from loguru import logger\n",
    "from fastapi.middleware.cors import CORSMiddleware\n",
    "import json\n",
    "from FinalChain import main\n",
    "app = FastAPI()\n",
    "app.add_middleware(\n",
    "    CORSMiddleware, \n",
    "    allow_origins=[\"*\"],  # Allows all origins\n",
    "    allow_credentials=True,\n",
    "    allow_methods=[\"*\"],  # Allows all methods (GET, POST, etc.)\n",
    "    allow_headers=[\"*\"],  # Allows all headers\n",
    ")\n",
    "\n",
    "\n",
    "class ImageURL(BaseModel):\n",
    "    url: str\n",
    "\n",
    "\n",
    "sampleresponse = \"\"\n",
    "\n",
    "\n",
    "@app.post(\"/analyze\")\n",
    "def index(request: ImageURL):\n",
    "    global sampleresponse\n",
    "    logger.info(\"Running Inference\")\n",
    "    response = main(request.url)\n",
    "    sampleresponse = response\n",
    "    return {\"analysis\": sampleresponse}\n",
    "\n",
    "\n",
    "@app.post(\"/analyze_test\")\n",
    "def index(request: ImageURL):\n",
    "    global sampleresponse\n",
    "    return {\"analysis\": sampleresponse}\n",
    "\n",
    "from pyngrok import ngrok\n",
    "\n",
    "ngrok_tunnel = ngrok.connect(8000)\n",
    "\n",
    "print(ngrok_tunnel)\n",
    "import nest_asyncio\n",
    "import uvicorn\n",
    "\n",
    "nest_asyncio.apply()\n",
    "uvicorn.run(app, port=8000)"
   ]
  }
 ],
 "metadata": {
  "kernelspec": {
   "display_name": "Python 3",
   "language": "python",
   "name": "python3"
  },
  "language_info": {
   "codemirror_mode": {
    "name": "ipython",
    "version": 3
   },
   "file_extension": ".py",
   "mimetype": "text/x-python",
   "name": "python",
   "nbconvert_exporter": "python",
   "pygments_lexer": "ipython3",
   "version": "3.11.5"
  }
 },
 "nbformat": 4,
 "nbformat_minor": 2
}
